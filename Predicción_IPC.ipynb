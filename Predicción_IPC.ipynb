{
 "cells": [
  {
   "cell_type": "markdown",
   "metadata": {},
   "source": [
    "Distribución empirica del IPC\n",
    "==\n"
   ]
  },
  {
   "cell_type": "markdown",
   "metadata": {},
   "source": [
    "La distribución empirica, o función de distribución empirica, puede ser utilizada para describir una muestra de observaciones de una variable dada. Los valores en un punto dado son iguales a la proporción de observaciones iguales o menors que dicho punto.\n",
    "\n",
    "Definición\n",
    "--\n",
    "Sea $E_n = [x_1,\\dots,x_n]$ una muestra de tamaño $n$, donde $[x_1,\\dots,x_n]$ son las $n$ observaciones de la muestra. La función de distribución empirica de la muestra $E_n$ es la función $F_n: \\mathbb{R}\\to[0,1]$ definida por:\n",
    "$$F_n(x) = \\frac{1}{n}\\sum_{i=1}^n 1_{\\{x_i\\leq x\\}}$$\n",
    "Donde $\\{x_i\\leq x\\}$ es una función indicadora que es igual a $1$ si $\\{x_i\\leq x\\}$ y $0$ en otro caso.\n",
    "  \n",
    "  En otras palabras, el valor de la distribución empirica en un punto dado $x$ se obtiene así:\n",
    "* Contando el numero de observaciones que son menores o iguales que $x$.\n",
    "* Dividiendo el número obtenido entre el total de observaciones, para obtener la proporción de observaciones que son menores o iguales a $x$.\n",
    "  \n",
    "Tomado de [StatLect](https://www.statlect.com/asymptotic-theory/empirical-distribution)."
   ]
  },
  {
   "cell_type": "code",
   "execution_count": 2,
   "metadata": {},
   "outputs": [],
   "source": [
    "import pandas as pd\n",
    "import numpy as np\n",
    "from matplotlib import pyplot as plt"
   ]
  },
  {
   "cell_type": "code",
   "execution_count": 29,
   "metadata": {},
   "outputs": [
    {
     "data": {
      "text/html": [
       "<div>\n",
       "<style scoped>\n",
       "    .dataframe tbody tr th:only-of-type {\n",
       "        vertical-align: middle;\n",
       "    }\n",
       "\n",
       "    .dataframe tbody tr th {\n",
       "        vertical-align: top;\n",
       "    }\n",
       "\n",
       "    .dataframe thead th {\n",
       "        text-align: right;\n",
       "    }\n",
       "</style>\n",
       "<table border=\"1\" class=\"dataframe\">\n",
       "  <thead>\n",
       "    <tr style=\"text-align: right;\">\n",
       "      <th></th>\n",
       "      <th>Año(aaaa)-Mes(mm)</th>\n",
       "      <th>Inflación total 1</th>\n",
       "      <th>Límite superior</th>\n",
       "      <th>Meta de inflación</th>\n",
       "      <th>Límite inferior</th>\n",
       "    </tr>\n",
       "  </thead>\n",
       "  <tbody>\n",
       "    <tr>\n",
       "      <th>0</th>\n",
       "      <td>2021-04</td>\n",
       "      <td>1.95</td>\n",
       "      <td>4.0</td>\n",
       "      <td>3.0</td>\n",
       "      <td>2.0</td>\n",
       "    </tr>\n",
       "    <tr>\n",
       "      <th>1</th>\n",
       "      <td>2021-03</td>\n",
       "      <td>1.51</td>\n",
       "      <td>4.0</td>\n",
       "      <td>3.0</td>\n",
       "      <td>2.0</td>\n",
       "    </tr>\n",
       "    <tr>\n",
       "      <th>2</th>\n",
       "      <td>2021-02</td>\n",
       "      <td>1.56</td>\n",
       "      <td>4.0</td>\n",
       "      <td>3.0</td>\n",
       "      <td>2.0</td>\n",
       "    </tr>\n",
       "    <tr>\n",
       "      <th>3</th>\n",
       "      <td>2021-01</td>\n",
       "      <td>1.60</td>\n",
       "      <td>4.0</td>\n",
       "      <td>3.0</td>\n",
       "      <td>2.0</td>\n",
       "    </tr>\n",
       "    <tr>\n",
       "      <th>4</th>\n",
       "      <td>2020-12</td>\n",
       "      <td>1.61</td>\n",
       "      <td>4.0</td>\n",
       "      <td>3.0</td>\n",
       "      <td>2.0</td>\n",
       "    </tr>\n",
       "    <tr>\n",
       "      <th>...</th>\n",
       "      <td>...</td>\n",
       "      <td>...</td>\n",
       "      <td>...</td>\n",
       "      <td>...</td>\n",
       "      <td>...</td>\n",
       "    </tr>\n",
       "    <tr>\n",
       "      <th>335</th>\n",
       "      <td>1993-05</td>\n",
       "      <td>22.21</td>\n",
       "      <td>NaN</td>\n",
       "      <td>22.0</td>\n",
       "      <td>NaN</td>\n",
       "    </tr>\n",
       "    <tr>\n",
       "      <th>336</th>\n",
       "      <td>1993-04</td>\n",
       "      <td>23.08</td>\n",
       "      <td>NaN</td>\n",
       "      <td>22.0</td>\n",
       "      <td>NaN</td>\n",
       "    </tr>\n",
       "    <tr>\n",
       "      <th>337</th>\n",
       "      <td>1993-03</td>\n",
       "      <td>24.18</td>\n",
       "      <td>NaN</td>\n",
       "      <td>22.0</td>\n",
       "      <td>NaN</td>\n",
       "    </tr>\n",
       "    <tr>\n",
       "      <th>338</th>\n",
       "      <td>1993-02</td>\n",
       "      <td>24.71</td>\n",
       "      <td>NaN</td>\n",
       "      <td>22.0</td>\n",
       "      <td>NaN</td>\n",
       "    </tr>\n",
       "    <tr>\n",
       "      <th>339</th>\n",
       "      <td>1993-01</td>\n",
       "      <td>24.82</td>\n",
       "      <td>NaN</td>\n",
       "      <td>22.0</td>\n",
       "      <td>NaN</td>\n",
       "    </tr>\n",
       "  </tbody>\n",
       "</table>\n",
       "<p>340 rows × 5 columns</p>\n",
       "</div>"
      ],
      "text/plain": [
       "    Año(aaaa)-Mes(mm)  Inflación total 1  Límite superior  Meta de inflación  \\\n",
       "0             2021-04               1.95              4.0                3.0   \n",
       "1             2021-03               1.51              4.0                3.0   \n",
       "2             2021-02               1.56              4.0                3.0   \n",
       "3             2021-01               1.60              4.0                3.0   \n",
       "4             2020-12               1.61              4.0                3.0   \n",
       "..                ...                ...              ...                ...   \n",
       "335           1993-05              22.21              NaN               22.0   \n",
       "336           1993-04              23.08              NaN               22.0   \n",
       "337           1993-03              24.18              NaN               22.0   \n",
       "338           1993-02              24.71              NaN               22.0   \n",
       "339           1993-01              24.82              NaN               22.0   \n",
       "\n",
       "     Límite inferior  \n",
       "0                2.0  \n",
       "1                2.0  \n",
       "2                2.0  \n",
       "3                2.0  \n",
       "4                2.0  \n",
       "..               ...  \n",
       "335              NaN  \n",
       "336              NaN  \n",
       "337              NaN  \n",
       "338              NaN  \n",
       "339              NaN  \n",
       "\n",
       "[340 rows x 5 columns]"
      ]
     },
     "execution_count": 29,
     "metadata": {},
     "output_type": "execute_result"
    }
   ],
   "source": [
    "datos = pd.read_csv('Datos_real.csv')\n",
    "datos"
   ]
  },
  {
   "cell_type": "code",
   "execution_count": 3,
   "metadata": {},
   "outputs": [],
   "source": [
    "def dist_empirica(csv,columna,delimitador=','):\n",
    "    hist_ipc = pd.read_csv(csv,delimiter=delimitador).loc[:,columna]\n",
    "    tamano_hist = len(hist_ipc)\n",
    "    puntos_t = list(range(tamano_hist))\n",
    "    imagen = []\n",
    "    \n",
    "    for t in puntos_t:\n",
    "        cont = 0\n",
    "        for linea in hist_ipc:\n",
    "            if float(linea) <= float(hist_ipc.loc[t]):\n",
    "                cont += 1\n",
    "        imagen.append(cont/tamano_hist)\n",
    "        \n",
    "    return imagen"
   ]
  },
  {
   "cell_type": "code",
   "execution_count": 5,
   "metadata": {},
   "outputs": [
    {
     "data": {
      "text/plain": [
       "[<matplotlib.lines.Line2D at 0x7f1a88043970>]"
      ]
     },
     "execution_count": 5,
     "metadata": {},
     "output_type": "execute_result"
    },
    {
     "data": {
      "image/png": "[encoded data removed]",
      "text/plain": [
       "<Figure size 432x288 with 1 Axes>"
      ]
     },
     "metadata": {
      "needs_background": "light"
     },
     "output_type": "display_data"
    }
   ],
   "source": [
    "plt.plot(dist_empirica('Datos_real.csv','Inflación total 1'))"
   ]
  },
  {
   "cell_type": "code",
   "execution_count": 27,
   "metadata": {},
   "outputs": [
    {
     "data": {
      "text/plain": [
       "(array([34., 33., 35., 34., 34., 34., 34., 34., 34., 34.]),\n",
       " array([0.00294118, 0.10264706, 0.20235294, 0.30205882, 0.40176471,\n",
       "        0.50147059, 0.60117647, 0.70088235, 0.80058824, 0.90029412,\n",
       "        1.        ]),\n",
       " <BarContainer object of 10 artists>)"
      ]
     },
     "execution_count": 27,
     "metadata": {},
     "output_type": "execute_result"
    },
    {
     "data": {
      "image/png": "[encoded data removed]",
      "text/plain": [
       "<Figure size 432x288 with 1 Axes>"
      ]
     },
     "metadata": {
      "needs_background": "light"
     },
     "output_type": "display_data"
    }
   ],
   "source": [
    "plt.hist(dist_empirica('Datos_real.csv','Inflación total 1'))"
   ]
  }
 ],
 "metadata": {
  "kernelspec": {
   "display_name": "Python 3",
   "language": "python",
   "name": "python3"
  },
  "language_info": {
   "codemirror_mode": {
    "name": "ipython",
    "version": 3
   },
   "file_extension": ".py",
   "mimetype": "text/x-python",
   "name": "python",
   "nbconvert_exporter": "python",
   "pygments_lexer": "ipython3",
   "version": "3.8.5"
  }
 },
 "nbformat": 4,
 "nbformat_minor": 4
}
